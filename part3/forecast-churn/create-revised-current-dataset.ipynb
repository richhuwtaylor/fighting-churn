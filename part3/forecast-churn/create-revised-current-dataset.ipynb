{
 "cells": [
  {
   "cell_type": "code",
   "execution_count": 1,
   "metadata": {},
   "outputs": [],
   "source": [
    "import os\n",
    "import psycopg2\n",
    "import pandas as pd"
   ]
  },
  {
   "cell_type": "code",
   "execution_count": null,
   "metadata": {},
   "outputs": [],
   "source": [
    "host = os.environ['DB_HOST']\n",
    "port = os.environ['DB_PORT']\n",
    "dbname = os.environ['DB_NAME']\n",
    "user = os.environ['DB_USER']\n",
    "password = os.environ['DB_PASSWORD']"
   ]
  },
  {
   "cell_type": "markdown",
   "metadata": {},
   "source": [
    "In order to forecast churn for our _current_ customers, we first need to extract a metrics dataset consisting of just current customers, i.e. those that are active at present time.\n",
    "\n",
    "The SQL script selects all accounts with at least 14 days' tenure. \n",
    "This constraint ensures that customers have been observed for a few weeks before\n",
    "their metrics are used. If we don't do this, most new customers will have low metrics\n",
    "due to the short observation period."
   ]
  },
  {
   "cell_type": "code",
   "execution_count": 5,
   "metadata": {},
   "outputs": [],
   "source": [
    "connection = psycopg2.connect(\n",
    "    host=host,\n",
    "    port=port,\n",
    "    dbname=dbname,\n",
    "    user=user,\n",
    "    password=password\n",
    ")\n",
    "\n",
    "# read the SQL query template\n",
    "query_path = 'create-revised-current-dataset' + '.sql'\n",
    "with open(query_path, 'r') as file:\n",
    "    sql_script = file.read()\n",
    "\n",
    "# create a cursor to execute SQL queries\n",
    "cursor = connection.cursor()\n",
    "\n",
    "# prepare and execute the query\n",
    "cursor.execute(sql_script)\n",
    "\n",
    "# retrieve the results\n",
    "results = cursor.fetchall()\n",
    "\n",
    "# create a pandas DataFrame from the results\n",
    "df = pd.DataFrame(results, columns=[desc[0] for desc in cursor.description])\n",
    "\n",
    "# write to csv\n",
    "csv_write_path = '../../output/socialnet7_dataset2_current' + '.csv'\n",
    "df.to_csv(csv_write_path, index=False, mode='w')\n",
    "\n",
    "# close the cursor and the connection\n",
    "cursor.close()\n",
    "connection.close()"
   ]
  }
 ],
 "metadata": {
  "kernelspec": {
   "display_name": "churn",
   "language": "python",
   "name": "python3"
  },
  "language_info": {
   "codemirror_mode": {
    "name": "ipython",
    "version": 3
   },
   "file_extension": ".py",
   "mimetype": "text/x-python",
   "name": "python",
   "nbconvert_exporter": "python",
   "pygments_lexer": "ipython3",
   "version": "3.9.16"
  },
  "orig_nbformat": 4
 },
 "nbformat": 4,
 "nbformat_minor": 2
}
