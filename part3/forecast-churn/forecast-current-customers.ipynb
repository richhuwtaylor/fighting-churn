{
 "cells": [
  {
   "cell_type": "code",
   "execution_count": 6,
   "metadata": {},
   "outputs": [],
   "source": [
    "import pandas as pd\n",
    "import os\n",
    "import pickle\n",
    "import matplotlib.pyplot as plt"
   ]
  },
  {
   "cell_type": "markdown",
   "metadata": {},
   "source": [
    "In this notebook, we make forecasts of churn and retention probability on the current customer set. The main steps involved are:\n",
    "\n",
    "1) Load the pickle of the logistic regression object.\n",
    "2) Load the dataset of grouped scores for the current customers\n",
    "3) Call the `predict_proba` function on the logistic regression object, passing in\n",
    "the customer dataset. This gives us a two-column ndarray\n",
    "of predictions for churn and retention probability.\n",
    "4) Save the forecasts for later reference.\n",
    "\n",
    "We also inspect the churn probabilities by plotting a histogram."
   ]
  },
  {
   "cell_type": "code",
   "execution_count": 7,
   "metadata": {},
   "outputs": [],
   "source": [
    "# Load customer data files into a DataFrame using the appropriate number of columns\n",
    "def reload_churn_data(data_set_path, suffix, is_customer_data): \n",
    "   data_path = data_set_path.replace('.csv', '_{}.csv'.format(suffix))\n",
    "   ic = [0,1] if is_customer_data else 0 \n",
    "   churn_data = pd.read_csv(data_path, index_col=ic)\n",
    "   return churn_data"
   ]
  },
  {
   "cell_type": "code",
   "execution_count": 8,
   "metadata": {},
   "outputs": [
    {
     "name": "stderr",
     "output_type": "stream",
     "text": [
      "<frozen importlib._bootstrap>:228: RuntimeWarning: scipy._lib.messagestream.MessageStream size changed, may indicate binary incompatibility. Expected 56 from C header, got 64 from PyObject\n"
     ]
    }
   ],
   "source": [
    "data_set_path = '../../output/socialnet7_dataset2.csv'\n",
    "\n",
    "pickle_path = data_set_path.replace('.csv', '_logreg_model.pkl')\n",
    "# 'rb' mode - opening a binary file\n",
    "with open(pickle_path, 'rb') as fid:\n",
    "    logreg_model = pickle.load(fid)\n",
    "\n",
    "# Reload current customer group scores\n",
    "current_score_df = reload_churn_data(data_set_path, 'current_groupscore', is_customer_data=True)"
   ]
  },
  {
   "cell_type": "code",
   "execution_count": 9,
   "metadata": {},
   "outputs": [],
   "source": [
    "# Use the model to make the predictions\n",
    "# predict_proba is the method of sklearn.linear_model.LogisticRegression which returns the \n",
    "# predicted probability of each class\n",
    "predictions = logreg_model.predict_proba(current_score_df.to_numpy())\n",
    "\n",
    "# Save the predictions in a new DataFrame\n",
    "predict_df = pd.DataFrame(predictions, \n",
    "                            index=current_score_df.index,\n",
    "                            columns=['churn_prob', 'retain_prob'])"
   ]
  },
  {
   "cell_type": "markdown",
   "metadata": {},
   "source": [
    "The forecast outputs are similar to those for the historical customer dataset, except that they consist of only one observation date and a single observation for each customer:"
   ]
  },
  {
   "cell_type": "code",
   "execution_count": 21,
   "metadata": {},
   "outputs": [
    {
     "data": {
      "text/html": [
       "<div>\n",
       "<style scoped>\n",
       "    .dataframe tbody tr th:only-of-type {\n",
       "        vertical-align: middle;\n",
       "    }\n",
       "\n",
       "    .dataframe tbody tr th {\n",
       "        vertical-align: top;\n",
       "    }\n",
       "\n",
       "    .dataframe thead th {\n",
       "        text-align: right;\n",
       "    }\n",
       "</style>\n",
       "<table border=\"1\" class=\"dataframe\">\n",
       "  <thead>\n",
       "    <tr style=\"text-align: right;\">\n",
       "      <th></th>\n",
       "      <th></th>\n",
       "      <th>churn_prob</th>\n",
       "      <th>retain_prob</th>\n",
       "    </tr>\n",
       "    <tr>\n",
       "      <th>account_id</th>\n",
       "      <th>observation_date</th>\n",
       "      <th></th>\n",
       "      <th></th>\n",
       "    </tr>\n",
       "  </thead>\n",
       "  <tbody>\n",
       "    <tr>\n",
       "      <th>3</th>\n",
       "      <th>2020-05-10</th>\n",
       "      <td>0.021592</td>\n",
       "      <td>0.978408</td>\n",
       "    </tr>\n",
       "    <tr>\n",
       "      <th>4</th>\n",
       "      <th>2020-05-10</th>\n",
       "      <td>0.009902</td>\n",
       "      <td>0.990098</td>\n",
       "    </tr>\n",
       "    <tr>\n",
       "      <th>5</th>\n",
       "      <th>2020-05-10</th>\n",
       "      <td>0.031789</td>\n",
       "      <td>0.968211</td>\n",
       "    </tr>\n",
       "    <tr>\n",
       "      <th>6</th>\n",
       "      <th>2020-05-10</th>\n",
       "      <td>0.023117</td>\n",
       "      <td>0.976883</td>\n",
       "    </tr>\n",
       "    <tr>\n",
       "      <th>7</th>\n",
       "      <th>2020-05-10</th>\n",
       "      <td>0.005576</td>\n",
       "      <td>0.994424</td>\n",
       "    </tr>\n",
       "  </tbody>\n",
       "</table>\n",
       "</div>"
      ],
      "text/plain": [
       "                             churn_prob  retain_prob\n",
       "account_id observation_date                         \n",
       "3          2020-05-10          0.021592     0.978408\n",
       "4          2020-05-10          0.009902     0.990098\n",
       "5          2020-05-10          0.031789     0.968211\n",
       "6          2020-05-10          0.023117     0.976883\n",
       "7          2020-05-10          0.005576     0.994424"
      ]
     },
     "execution_count": 21,
     "metadata": {},
     "output_type": "execute_result"
    }
   ],
   "source": [
    "predict_df.head()"
   ]
  },
  {
   "cell_type": "code",
   "execution_count": 23,
   "metadata": {},
   "outputs": [
    {
     "data": {
      "text/plain": [
       "churn_prob     0.044886\n",
       "retain_prob    0.955114\n",
       "dtype: float64"
      ]
     },
     "execution_count": 23,
     "metadata": {},
     "output_type": "execute_result"
    }
   ],
   "source": [
    "predict_df[['churn_prob', 'retain_prob']].mean()"
   ]
  },
  {
   "cell_type": "markdown",
   "metadata": {},
   "source": [
    "We see that the mean predicted churn and retention probabilities are very close to those of the historical predictions we saw in the `forecast-churn/results-of-logistic-regression.ipynb` notebook, and close to the summary stats of the sample dataset."
   ]
  },
  {
   "cell_type": "code",
   "execution_count": 19,
   "metadata": {},
   "outputs": [
    {
     "data": {
      "image/png": "[encoded data removed]",
      "text/plain": [
       "<Figure size 600x400 with 1 Axes>"
      ]
     },
     "metadata": {},
     "output_type": "display_data"
    }
   ],
   "source": [
    "plt.figure(figsize = [6, 4])\n",
    "n, bins, _ = plt.hist(predict_df['churn_prob'].values, bins=100)\n",
    "plt.xlabel('Churn Probability')\n",
    "plt.ylabel('Number of Accounts')\n",
    "plt.title('Histogram of Active Customer Churn Probability')\n",
    "plt.grid()\n",
    "plt.show()"
   ]
  },
  {
   "cell_type": "markdown",
   "metadata": {},
   "source": [
    "There is a tail of accounts with significantly higher churn probability, but no accounts hve anywhere near 100% churn probability. The vast majority have less than 20% churn probability."
   ]
  },
  {
   "cell_type": "code",
   "execution_count": 24,
   "metadata": {},
   "outputs": [],
   "source": [
    "forecast_save_path = data_set_path.replace('.csv', '_current_predictions.csv')\n",
    "predict_df.to_csv(forecast_save_path, header=True)"
   ]
  }
 ],
 "metadata": {
  "kernelspec": {
   "display_name": "churn",
   "language": "python",
   "name": "python3"
  },
  "language_info": {
   "codemirror_mode": {
    "name": "ipython",
    "version": 3
   },
   "file_extension": ".py",
   "mimetype": "text/x-python",
   "name": "python",
   "nbconvert_exporter": "python",
   "pygments_lexer": "ipython3",
   "version": "3.9.16"
  },
  "orig_nbformat": 4
 },
 "nbformat": 4,
 "nbformat_minor": 2
}
