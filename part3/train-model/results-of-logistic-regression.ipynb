{
 "cells": [
  {
   "cell_type": "code",
   "execution_count": 2,
   "metadata": {},
   "outputs": [
    {
     "name": "stderr",
     "output_type": "stream",
     "text": [
      "<frozen importlib._bootstrap>:228: RuntimeWarning: scipy._lib.messagestream.MessageStream size changed, may indicate binary incompatibility. Expected 56 from C header, got 64 from PyObject\n"
     ]
    }
   ],
   "source": [
    "import pandas as pd\n",
    "from matplotlib import pyplot as plt\n",
    "import seaborn as sns"
   ]
  },
  {
   "cell_type": "markdown",
   "metadata": {},
   "source": [
    "This notebook offers an interpretation of the results of the logistic regression analysis."
   ]
  },
  {
   "cell_type": "code",
   "execution_count": 3,
   "metadata": {},
   "outputs": [],
   "source": [
    "col_order = ['group_metrics', 'group_metric_offset', 'weight', 'retain_impact']\n",
    "logreg_summary_df = pd.read_csv('../output/socialnet7_dataset2_logreg_summary.csv')\n",
    "logreg_summary_df = logreg_summary_df[col_order]"
   ]
  },
  {
   "cell_type": "markdown",
   "metadata": {},
   "source": [
    "`weight` - a positive weight indicates that a metric (or group) is associated with increased engagement.\n",
    "\n",
    "`retain_impact` - represents how much difference in the retention probability it would make to be one standard deviation above average for this metric (or group), assuming a customer was average in all other aspects.\n",
    "\n",
    "If the retention impact for a metric is 2%, a customer who is one standard deviation above average on that metric and average in all the other metrics has a forecast retention probability 2% higher than the average retention probability.\n",
    "\n",
    "The results for the model offset are included. The `weight` for the offset is not a weight, but just the amount of the offset. The `retain_impact` of the offset is the retention probability forecast for a perfectly average customer (i.e. one with zero scores in all metrics).\n"
   ]
  },
  {
   "cell_type": "code",
   "execution_count": 4,
   "metadata": {},
   "outputs": [
    {
     "data": {
      "text/html": [
       "<div>\n",
       "<style scoped>\n",
       "    .dataframe tbody tr th:only-of-type {\n",
       "        vertical-align: middle;\n",
       "    }\n",
       "\n",
       "    .dataframe tbody tr th {\n",
       "        vertical-align: top;\n",
       "    }\n",
       "\n",
       "    .dataframe thead th {\n",
       "        text-align: right;\n",
       "    }\n",
       "</style>\n",
       "<table border=\"1\" class=\"dataframe\">\n",
       "  <thead>\n",
       "    <tr style=\"text-align: right;\">\n",
       "      <th></th>\n",
       "      <th>group_metrics</th>\n",
       "      <th>group_metric_offset</th>\n",
       "      <th>weight</th>\n",
       "      <th>retain_impact</th>\n",
       "    </tr>\n",
       "  </thead>\n",
       "  <tbody>\n",
       "    <tr>\n",
       "      <th>9</th>\n",
       "      <td>(baseline)</td>\n",
       "      <td>offset</td>\n",
       "      <td>3.534486</td>\n",
       "      <td>0.971653</td>\n",
       "    </tr>\n",
       "    <tr>\n",
       "      <th>2</th>\n",
       "      <td>message_per_month|reply_per_month</td>\n",
       "      <td>metric_group_3</td>\n",
       "      <td>0.677812</td>\n",
       "      <td>0.013751</td>\n",
       "    </tr>\n",
       "    <tr>\n",
       "      <th>0</th>\n",
       "      <td>adview_per_month|like_per_month|newfriend_per_month|post_per_message|post_per_month</td>\n",
       "      <td>metric_group_1</td>\n",
       "      <td>0.610598</td>\n",
       "      <td>0.012752</td>\n",
       "    </tr>\n",
       "    <tr>\n",
       "      <th>7</th>\n",
       "      <td>newfriend_pcnt_chng</td>\n",
       "      <td>newfriend_pcnt_chng</td>\n",
       "      <td>0.175516</td>\n",
       "      <td>0.004454</td>\n",
       "    </tr>\n",
       "    <tr>\n",
       "      <th>6</th>\n",
       "      <td>dislike_pcnt</td>\n",
       "      <td>dislike_pcnt</td>\n",
       "      <td>-0.002006</td>\n",
       "      <td>-0.000055</td>\n",
       "    </tr>\n",
       "    <tr>\n",
       "      <th>5</th>\n",
       "      <td>reply_per_message</td>\n",
       "      <td>reply_per_message</td>\n",
       "      <td>-0.026286</td>\n",
       "      <td>-0.000733</td>\n",
       "    </tr>\n",
       "    <tr>\n",
       "      <th>1</th>\n",
       "      <td>unfriend_per_month|unfriend_per_newfriend</td>\n",
       "      <td>metric_group_2</td>\n",
       "      <td>-0.104359</td>\n",
       "      <td>-0.003020</td>\n",
       "    </tr>\n",
       "    <tr>\n",
       "      <th>3</th>\n",
       "      <td>dislike_per_month</td>\n",
       "      <td>dislike_per_month</td>\n",
       "      <td>-0.112772</td>\n",
       "      <td>-0.003277</td>\n",
       "    </tr>\n",
       "    <tr>\n",
       "      <th>8</th>\n",
       "      <td>days_since_newfriend</td>\n",
       "      <td>days_since_newfriend</td>\n",
       "      <td>-0.147217</td>\n",
       "      <td>-0.004349</td>\n",
       "    </tr>\n",
       "    <tr>\n",
       "      <th>4</th>\n",
       "      <td>adview_per_post</td>\n",
       "      <td>adview_per_post</td>\n",
       "      <td>-0.318860</td>\n",
       "      <td>-0.010235</td>\n",
       "    </tr>\n",
       "  </tbody>\n",
       "</table>\n",
       "</div>"
      ],
      "text/plain": [
       "                                                                         group_metrics  \\\n",
       "9                                                                           (baseline)   \n",
       "2                                                    message_per_month|reply_per_month   \n",
       "0  adview_per_month|like_per_month|newfriend_per_month|post_per_message|post_per_month   \n",
       "7                                                                  newfriend_pcnt_chng   \n",
       "6                                                                         dislike_pcnt   \n",
       "5                                                                    reply_per_message   \n",
       "1                                            unfriend_per_month|unfriend_per_newfriend   \n",
       "3                                                                    dislike_per_month   \n",
       "8                                                                 days_since_newfriend   \n",
       "4                                                                      adview_per_post   \n",
       "\n",
       "    group_metric_offset    weight  retain_impact  \n",
       "9                offset  3.534486       0.971653  \n",
       "2        metric_group_3  0.677812       0.013751  \n",
       "0        metric_group_1  0.610598       0.012752  \n",
       "7   newfriend_pcnt_chng  0.175516       0.004454  \n",
       "6          dislike_pcnt -0.002006      -0.000055  \n",
       "5     reply_per_message -0.026286      -0.000733  \n",
       "1        metric_group_2 -0.104359      -0.003020  \n",
       "3     dislike_per_month -0.112772      -0.003277  \n",
       "8  days_since_newfriend -0.147217      -0.004349  \n",
       "4       adview_per_post -0.318860      -0.010235  "
      ]
     },
     "execution_count": 4,
     "metadata": {},
     "output_type": "execute_result"
    }
   ],
   "source": [
    "pd.set_option('display.max_colwidth', None)\n",
    "logreg_summary_df.sort_values(by=['retain_impact'], ascending=False)"
   ]
  },
  {
   "cell_type": "markdown",
   "metadata": {},
   "source": [
    "Plotting the impacts on retention probability as a bar chart makes them easier to interpret. We also create a set of labels for groups to explain the theme of the metric:"
   ]
  },
  {
   "cell_type": "code",
   "execution_count": 5,
   "metadata": {},
   "outputs": [
    {
     "data": {
      "image/png": "[encoded data removed]",
      "text/plain": [
       "<Figure size 640x480 with 1 Axes>"
      ]
     },
     "metadata": {},
     "output_type": "display_data"
    }
   ],
   "source": [
    "label_dict = {\n",
    "    'metric_group_1': 'Posting and making friends',\n",
    "    'metric_group_2': 'Unfriending',\n",
    "    'metric_group_3': 'Messaging',\n",
    "    'newfriend_pcnt_chng': 'Increase in new friends',\n",
    "    'dislike_pcnt': 'More dislikes than likes',\n",
    "    'reply_per_message': 'Replies per message',\n",
    "    'adview_per_post': 'Seeing lots of ads',\n",
    "    'days_since_newfriend': 'Time since new friend',\n",
    "    'dislike_per_month': 'Dislikes per month'\n",
    "}\n",
    "\n",
    "rows_to_drop = logreg_summary_df[logreg_summary_df['group_metric_offset'] == 'offset']\n",
    "sorted_df = (\n",
    "    logreg_summary_df.drop(rows_to_drop.index)\n",
    "    .sort_values(by='retain_impact', ascending=False)\n",
    "    .assign(retain_impact=lambda x: x['retain_impact'] * 100) # convert to percentage\n",
    ")\n",
    "# Add a column of labels describing the theme of the metric\n",
    "sorted_df['metric_theme'] = sorted_df['group_metric_offset'].map(label_dict)\n",
    "\n",
    "sns.barplot(data=sorted_df, x='metric_theme', y='retain_impact')\n",
    "plt.title('Impact on retention probability of being above average (by one standard deviation)')\n",
    "plt.xlabel('')\n",
    "plt.ylabel('Impact %')\n",
    "plt.xticks(rotation=90, fontsize=8)\n",
    "plt.show()"
   ]
  },
  {
   "cell_type": "markdown",
   "metadata": {},
   "source": [
    "These results would suggest that _being above average_ in messaging activity, posting and continuing to make friends have the biggest positive impact on retention, while _being above average_ seeing lots of ads, going long periods between making new friends and disliking content have the biggest negative impact on retention.\n",
    "\n",
    "Interestingly, the ratio of likes to dislikes has a negligible impact on churn/retention.\n",
    "\n",
    "It's also important to note that:\n",
    "- Being below average will have an approximately equal and opposite effect.\n",
    "- If a customer is multiple standard deviations above average, there are diminishing returns, meaning that each additional standard deviation above average has less impact on the churn or retention probability.\n",
    "- The same diminishing returns goes for being above average in multiple respects:\n",
    "the combined churn probability reduction will be lower than the sum of the quoted retention probability impacts."
   ]
  },
  {
   "cell_type": "markdown",
   "metadata": {},
   "source": [
    "Before going further, we should check that the model is calibrated. A good check of model calibration is to compare the historical churn probabilities predicted by the model to the summary statistics of the dataset."
   ]
  },
  {
   "cell_type": "code",
   "execution_count": 14,
   "metadata": {},
   "outputs": [
    {
     "data": {
      "text/plain": [
       "churn_prob     0.047886\n",
       "retain_prob    0.952114\n",
       "dtype: float64"
      ]
     },
     "execution_count": 14,
     "metadata": {},
     "output_type": "execute_result"
    }
   ],
   "source": [
    "predictions_df = pd.read_csv('../output/socialnet7_dataset2_predictions.csv')\n",
    "\n",
    "# Show the mean churn and retention probabilities predicted by the model\n",
    "predictions_df[['churn_prob', 'retain_prob']].mean()"
   ]
  },
  {
   "cell_type": "code",
   "execution_count": 13,
   "metadata": {},
   "outputs": [
    {
     "data": {
      "text/html": [
       "<div>\n",
       "<style scoped>\n",
       "    .dataframe tbody tr th:only-of-type {\n",
       "        vertical-align: middle;\n",
       "    }\n",
       "\n",
       "    .dataframe tbody tr th {\n",
       "        vertical-align: top;\n",
       "    }\n",
       "\n",
       "    .dataframe thead th {\n",
       "        text-align: right;\n",
       "    }\n",
       "</style>\n",
       "<table border=\"1\" class=\"dataframe\">\n",
       "  <thead>\n",
       "    <tr style=\"text-align: right;\">\n",
       "      <th></th>\n",
       "      <th>Unnamed: 0</th>\n",
       "      <th>count</th>\n",
       "      <th>nonzero</th>\n",
       "      <th>mean</th>\n",
       "      <th>std</th>\n",
       "      <th>skew</th>\n",
       "      <th>min</th>\n",
       "      <th>1pct</th>\n",
       "      <th>25pct</th>\n",
       "      <th>50pct</th>\n",
       "      <th>75pct</th>\n",
       "      <th>99pct</th>\n",
       "      <th>max</th>\n",
       "    </tr>\n",
       "  </thead>\n",
       "  <tbody>\n",
       "    <tr>\n",
       "      <th>0</th>\n",
       "      <td>is_churn</td>\n",
       "      <td>25143</td>\n",
       "      <td>0.047846</td>\n",
       "      <td>0.047846</td>\n",
       "      <td>0.213445</td>\n",
       "      <td>4.237056</td>\n",
       "      <td>0</td>\n",
       "      <td>0</td>\n",
       "      <td>0.0</td>\n",
       "      <td>0.0</td>\n",
       "      <td>0.0</td>\n",
       "      <td>1.0</td>\n",
       "      <td>1.0</td>\n",
       "    </tr>\n",
       "  </tbody>\n",
       "</table>\n",
       "</div>"
      ],
      "text/plain": [
       "  Unnamed: 0  count   nonzero      mean       std      skew  min  1pct  25pct  \\\n",
       "0   is_churn  25143  0.047846  0.047846  0.213445  4.237056    0     0    0.0   \n",
       "\n",
       "   50pct  75pct  99pct  max  \n",
       "0    0.0    0.0    1.0  1.0  "
      ]
     },
     "execution_count": 13,
     "metadata": {},
     "output_type": "execute_result"
    }
   ],
   "source": [
    "summary_stats_df = pd.read_csv('../../output/socialnet7_dataset2_summarystats.csv')\n",
    "\n",
    "# Grab the summary stat for just churn\n",
    "summary_stats_df.loc[summary_stats_df.iloc[:, 0] == 'is_churn']"
   ]
  },
  {
   "cell_type": "markdown",
   "metadata": {},
   "source": [
    "We can see that the mean churn probability predicted by the model is very close to the churn rate of the sample dataset."
   ]
  },
  {
   "cell_type": "markdown",
   "metadata": {},
   "source": []
  }
 ],
 "metadata": {
  "kernelspec": {
   "display_name": "churn",
   "language": "python",
   "name": "python3"
  },
  "language_info": {
   "codemirror_mode": {
    "name": "ipython",
    "version": 3
   },
   "file_extension": ".py",
   "mimetype": "text/x-python",
   "name": "python",
   "nbconvert_exporter": "python",
   "pygments_lexer": "ipython3",
   "version": "3.9.16"
  },
  "orig_nbformat": 4
 },
 "nbformat": 4,
 "nbformat_minor": 2
}
