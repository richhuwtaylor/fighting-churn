{
 "cells": [
  {
   "cell_type": "code",
   "execution_count": 2,
   "metadata": {},
   "outputs": [],
   "source": [
    "import pandas as pd\n",
    "import numpy as np"
   ]
  },
  {
   "attachments": {},
   "cell_type": "markdown",
   "metadata": {},
   "source": [
    "This notebook produces normalised scores for event metric observations. Rescaling the observations in this way makes them easier to interpret, particularly when the metric is highly skewed. Skewed metrics are log-transformed to remove the skew.\n",
    "\n",
    "The prodecure for producing the scores is as follows:\n",
    "\n",
    "1) Determine whether the metric is significantly skewed by checking the skew statistic. A typical threshold considers the skew to be significant when it is above 4. Check that the minimum metric value (before any transformation) is zero. If the metric is not significantly skewed or has negative values,\n",
    "skip to step 4.\n",
    "2) Add 1 to the skewed customer metrics, so that a customer that has a zero event count now has 1, a customer with 1 now has 2, and so on.\n",
    "3) Take the logarithm of all the skewed metrics.\n",
    "4) Calculate the mean and the standard deviation of the metric values at this point in the process. If the metric was not skewed, these values are simply the original metrics. If the metric was skewed, use the logarithm of 1 plus the original customer metrics.\n",
    "5) Subtract the mean from all values.\n",
    "6) Divide all values by the standard devation.\n",
    "\n",
    "The result is a score which is the measure of the number of standard deviations above of below the mean on which the value falls."
   ]
  },
  {
   "cell_type": "code",
   "execution_count": 14,
   "metadata": {},
   "outputs": [],
   "source": [
    "# we consider columns with a skew of > 4.0 to be skewed\n",
    "skew_thresh = 4.0\n",
    "\n",
    "# read in the event metrics dataset\n",
    "dataset_path = \"../create-churn-dataset/socialnet_dataset.csv\"\n",
    "churn_data = pd.read_csv(dataset_path, index_col=[0, 1])\n",
    "data_scores = churn_data.copy()\n",
    "# is_churn column should not be converted into a score\n",
    "data_scores.drop('is_churn', axis=1)\n",
    "\n",
    "# read in the summary stats\n",
    "summarystats_path = \"../metric-summary-stats/socialnet_dataset_summarystats.csv\"\n",
    "stats = pd.read_csv(summarystats_path, index_col=0)\n",
    "stats = stats.drop('is_churn')\n",
    "\n",
    "# identify the skewed columns\n",
    "skewed_columns = (stats['skew'] > skew_thresh) & (stats['min'] >= 0)\n",
    "skewed_columns = skewed_columns[skewed_columns]\n",
    "\n",
    "# iterate over the skewed columns\n",
    "for col in skewed_columns.keys(): \n",
    "    data_scores[col] = np.log(1.0 + data_scores[col]) \n",
    "    stats.at[col,'mean'] = data_scores[col].mean() \n",
    "    stats.at[col,'std'] = data_scores[col].std()\n",
    "\n",
    "# normalise all columns by subtracting the mean and dividing by the standard deviation\n"
   ]
  },
  {
   "cell_type": "code",
   "execution_count": 15,
   "metadata": {},
   "outputs": [
    {
     "data": {
      "text/plain": [
       "pandas.core.indexes.base.Index"
      ]
     },
     "execution_count": 15,
     "metadata": {},
     "output_type": "execute_result"
    }
   ],
   "source": [
    "type(skewed_columns)"
   ]
  },
  {
   "cell_type": "code",
   "execution_count": 16,
   "metadata": {},
   "outputs": [
    {
     "data": {
      "text/plain": [
       "Index(['like_per_month', 'post_per_month', 'adview_per_month',\n",
       "       'dislike_per_month', 'message_per_month', 'reply_per_month'],\n",
       "      dtype='object')"
      ]
     },
     "execution_count": 16,
     "metadata": {},
     "output_type": "execute_result"
    }
   ],
   "source": [
    "skewed_columns"
   ]
  },
  {
   "cell_type": "code",
   "execution_count": null,
   "metadata": {},
   "outputs": [],
   "source": []
  }
 ],
 "metadata": {
  "kernelspec": {
   "display_name": "churn",
   "language": "python",
   "name": "python3"
  },
  "language_info": {
   "codemirror_mode": {
    "name": "ipython",
    "version": 3
   },
   "file_extension": ".py",
   "mimetype": "text/x-python",
   "name": "python",
   "nbconvert_exporter": "python",
   "pygments_lexer": "ipython3",
   "version": "3.9.16"
  },
  "orig_nbformat": 4
 },
 "nbformat": 4,
 "nbformat_minor": 2
}
