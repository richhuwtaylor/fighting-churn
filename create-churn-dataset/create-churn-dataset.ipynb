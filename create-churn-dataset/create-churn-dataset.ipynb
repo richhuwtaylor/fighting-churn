{
 "cells": [
  {
   "cell_type": "code",
   "execution_count": 3,
   "metadata": {},
   "outputs": [],
   "source": [
    "import os\n",
    "import psycopg2\n",
    "import pandas as pd\n",
    "import matplotlib.pyplot as plt\n",
    "from math import ceil"
   ]
  },
  {
   "cell_type": "code",
   "execution_count": null,
   "metadata": {},
   "outputs": [],
   "source": [
    "host = os.environ['DB_HOST']\n",
    "port = os.environ['DB_PORT']\n",
    "dbname = os.environ['DB_NAME']\n",
    "user = os.environ['DB_USER']\n",
    "password = os.environ['DB_PASSWORD']"
   ]
  },
  {
   "cell_type": "code",
   "execution_count": 8,
   "metadata": {},
   "outputs": [],
   "source": [
    "connection = psycopg2.connect(\n",
    "    host=host,\n",
    "    port=port,\n",
    "    dbname=dbname,\n",
    "    user=user,\n",
    "    password=password\n",
    ")\n",
    "\n",
    "# metric calculations cover the period 09/02/2020 to 10/05/2020\n",
    "parameters = {\n",
    "    'from_yyyy-mm-dd': '2020-02-09',\n",
    "    'to_yyyy-mm-dd': '2020-05-10',\n",
    "    'metric_interval': '7 day'\n",
    "}\n",
    "\n",
    "# read the SQL query template\n",
    "query_path = 'create-churn-dataset' + '.sql'\n",
    "with open(query_path, 'r') as file:\n",
    "    sql_script = file.read()\n",
    "\n",
    "# create a cursor to execute SQL queries\n",
    "cursor = connection.cursor()\n",
    "\n",
    "# prepare and execute the query\n",
    "cursor.execute(sql_script, parameters)\n",
    "\n",
    "# retrieve the results\n",
    "results = cursor.fetchall()\n",
    "\n",
    "# create a pandas DataFrame from the results\n",
    "df = pd.DataFrame(results, columns=[desc[0] for desc in cursor.description])\n",
    "\n",
    "# write to csv\n",
    "csv_write_path = 'socialnet_dataset' + '.csv'\n",
    "df.to_csv(csv_write_path, index=False, mode='w')\n",
    "\n",
    "# close the cursor and the connection\n",
    "cursor.close()\n",
    "connection.close()"
   ]
  }
 ],
 "metadata": {
  "kernelspec": {
   "display_name": "churn",
   "language": "python",
   "name": "python3"
  },
  "language_info": {
   "codemirror_mode": {
    "name": "ipython",
    "version": 3
   },
   "file_extension": ".py",
   "mimetype": "text/x-python",
   "name": "python",
   "nbconvert_exporter": "python",
   "pygments_lexer": "ipython3",
   "version": "3.9.16"
  },
  "orig_nbformat": 4
 },
 "nbformat": 4,
 "nbformat_minor": 2
}
